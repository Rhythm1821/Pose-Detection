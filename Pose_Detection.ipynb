{
  "nbformat": 4,
  "nbformat_minor": 0,
  "metadata": {
    "colab": {
      "provenance": [],
      "authorship_tag": "ABX9TyMI/G3oQCX0hB0R9Xq/VwgP",
      "include_colab_link": true
    },
    "kernelspec": {
      "name": "python3",
      "display_name": "Python 3"
    },
    "language_info": {
      "name": "python"
    }
  },
  "cells": [
    {
      "cell_type": "markdown",
      "metadata": {
        "id": "view-in-github",
        "colab_type": "text"
      },
      "source": [
        "<a href=\"https://colab.research.google.com/github/Rhythm1821/Pose-Detection/blob/main/Pose_Detection.ipynb\" target=\"_parent\"><img src=\"https://colab.research.google.com/assets/colab-badge.svg\" alt=\"Open In Colab\"/></a>"
      ]
    },
    {
      "cell_type": "markdown",
      "source": [
        "## 0 Import dependencies"
      ],
      "metadata": {
        "id": "WPOoNEq-2AFw"
      }
    },
    {
      "cell_type": "code",
      "execution_count": 31,
      "metadata": {
        "id": "pp35FSlD0pjE"
      },
      "outputs": [],
      "source": [
        "# !pip install  mediapipe opencv-python"
      ]
    },
    {
      "cell_type": "code",
      "source": [
        "import mediapipe as mp\n",
        "import cv2"
      ],
      "metadata": {
        "id": "UjK0BotW1LVc"
      },
      "execution_count": 2,
      "outputs": []
    },
    {
      "cell_type": "code",
      "source": [
        "mp_drawing = mp.solutions.drawing_utils\n",
        "mp_holistic = mp.solutions.holistic"
      ],
      "metadata": {
        "id": "z9Ewz5vq1Qtz"
      },
      "execution_count": 18,
      "outputs": []
    },
    {
      "cell_type": "markdown",
      "source": [
        "## 1 Get realtime webcam feed"
      ],
      "metadata": {
        "id": "lrQhq4af1uRu"
      }
    },
    {
      "cell_type": "code",
      "source": [
        "cap = cv2.VideoCapture(0)\n",
        "while cap.isOpened():\n",
        "  ret, frame = cap.read()\n",
        "  cv2.imshow(\"Holistic model detection\",frame)\n",
        "\n",
        "  if cv2.waitKey(10) and 0xFF==ord('q'):\n",
        "    break\n",
        "cap.release()\n",
        "cv2.destroyAllWindows()"
      ],
      "metadata": {
        "id": "rvc_GykT2P7A"
      },
      "execution_count": 12,
      "outputs": []
    },
    {
      "cell_type": "markdown",
      "source": [
        "## 2 Make detections from feed"
      ],
      "metadata": {
        "id": "k__QpKAc5q-t"
      }
    },
    {
      "cell_type": "code",
      "source": [
        "    cap = cv2.VideoCapture(0)\n",
        "    # Initiate holistic model\n",
        "    with mp_holistic.Holistic(min_detection_confidence=0.5, min_tracking_confidence=0.5) as holistic:\n",
        "      while cap.isOpened():\n",
        "        ret, frame = cap.read()\n",
        "\n",
        "        # Recolor feed\n",
        "        image = cv2.cvtColor(frame,cv2.COLOR_BGR2RGB)\n",
        "        # Make detections\n",
        "        results = holistic.process(image)\n",
        "        print(results)\n",
        "\n",
        "        # face landmarks,pose landmarks,left_hand_landmarks,right_hand_landmarks\n",
        "\n",
        "        # Recolor image to BGR for rendering\n",
        "        image = cv2.cvtColor(frame,cv2.COLOR_RGB2BGR)\n",
        "\n",
        "        # Draw face landmarks\n",
        "        mp_drawing.draw_landmarks(image,results.face_landmarks,mp.solutions.holistic.FACEMESH_TESSELATION)\n",
        "\n",
        "        # Right hand\n",
        "        mp_drawing.draw_landmarks(image,results.right_hand_landmarks,mp_holistic.HAND_CONNECTIONS)\n",
        "\n",
        "        # Left hand\n",
        "        mp_drawing.draw_landmarks(image,results.left_hand_landmarks,mp_holistic.HAND_CONNECTIONS)\n",
        "\n",
        "        # Pose detection\n",
        "        mp_drawing.draw_landmarks(image,results.pose_landmarks,mp_holistic.HAND_CONNECTIONS)\n",
        "\n",
        "\n",
        "        cv2.imshow(\"Holistic model detection\",image)\n",
        "\n",
        "        if cv2.waitKey(10) and 0xFF==ord('q'):\n",
        "          break\n",
        "    cap.release()\n",
        "    cv2.destroyAllWindows()"
      ],
      "metadata": {
        "id": "uE7zud7v70sa"
      },
      "execution_count": 25,
      "outputs": []
    },
    {
      "cell_type": "markdown",
      "source": [
        "## 3 Apply styling"
      ],
      "metadata": {
        "id": "N4CvQOGOWCq6"
      }
    },
    {
      "cell_type": "code",
      "source": [
        "mp_drawing.DrawingSpec(color=(0,0,255),thickness=2,circle_radius=2)"
      ],
      "metadata": {
        "colab": {
          "base_uri": "https://localhost:8080/"
        },
        "id": "Xl-xiY-NXckI",
        "outputId": "2c5d7ca1-0203-4341-b1fe-2658f1d7d023"
      },
      "execution_count": 29,
      "outputs": [
        {
          "output_type": "execute_result",
          "data": {
            "text/plain": [
              "DrawingSpec(color=(0, 0, 255), thickness=2, circle_radius=2)"
            ]
          },
          "metadata": {},
          "execution_count": 29
        }
      ]
    },
    {
      "cell_type": "code",
      "source": [
        "mp_drawing.draw_landmarks??"
      ],
      "metadata": {
        "id": "4B-5BRXoYbDO"
      },
      "execution_count": 30,
      "outputs": []
    },
    {
      "cell_type": "code",
      "source": [
        "cap = cv2.VideoCapture(0)\n",
        "# Initiate holistic model\n",
        "with mp_holistic.Holistic(min_detection_confidence=0.5, min_tracking_confidence=0.5) as holistic:\n",
        "  while cap.isOpened():\n",
        "    ret, frame = cap.read()\n",
        "\n",
        "    # Recolor feed\n",
        "    image = cv2.cvtColor(frame,cv2.COLOR_BGR2RGB)\n",
        "    # Make detections\n",
        "    results = holistic.process(image)\n",
        "    print(results)\n",
        "\n",
        "    # face landmarks,pose landmarks,left_hand_landmarks,right_hand_landmarks\n",
        "\n",
        "    # Recolor image to BGR for rendering\n",
        "    image = cv2.cvtColor(frame,cv2.COLOR_BGR2RGB)\n",
        "\n",
        "    # 1.Draw face landmarks\n",
        "    mp_drawing.draw_landmarks(image,results.face_landmarks,mp.solutions.holistic.FACEMESH_TESSELATION,\n",
        "                              mp_drawing.DrawingSpec(color=(255,0,0),thickness=2,circle_radius=2),\n",
        "                              mp_drawing.DrawingSpec(color=(240,0,0),thickness=2,circle_radius=2))\n",
        "\n",
        "    # 2. Right hand\n",
        "    mp_drawing.draw_landmarks(image,results.right_hand_landmarks,mp_holistic.HAND_CONNECTIONS,\n",
        "                              mp_drawing.DrawingSpec(color=(255,0,0),thickness=2,circle_radius=2),\n",
        "                              mp_drawing.DrawingSpec(color=(240,0,0),thickness=2,circle_radius=2))\n",
        "\n",
        "    # 3. Left hand\n",
        "    mp_drawing.draw_landmarks(image,results.left_hand_landmarks,mp_holistic.HAND_CONNECTIONS,\n",
        "                              mp_drawing.DrawingSpec(color=(255,0,0),thickness=2,circle_radius=2),\n",
        "                              mp_drawing.DrawingSpec(color=(240,0,0),thickness=2,circle_radius=2))\n",
        "\n",
        "    # 4. Pose detection\n",
        "    mp_drawing.draw_landmarks(image,results.pose_landmarks,mp_holistic.HAND_CONNECTIONS,\n",
        "                              mp_drawing.DrawingSpec(color=(255,0,0),thickness=2,circle_radius=2),\n",
        "                              mp_drawing.DrawingSpec(color=(240,0,0),thickness=2,circle_radius=2))\n",
        "\n",
        "\n",
        "    cv2.imshow(\"Holistic model detection\",image)\n",
        "\n",
        "    if cv2.waitKey(10) and 0xFF==ord('q'):\n",
        "      break\n",
        "cap.release()\n",
        "cv2.destroyAllWindows()"
      ],
      "metadata": {
        "colab": {
          "base_uri": "https://localhost:8080/"
        },
        "id": "nazwIqG5CNHN",
        "outputId": "0c442f74-7bf7-4d44-8317-24b79c0f0121"
      },
      "execution_count": 24,
      "outputs": [
        {
          "output_type": "execute_result",
          "data": {
            "text/plain": [
              "frozenset({(0, 1),\n",
              "           (0, 4),\n",
              "           (1, 2),\n",
              "           (2, 3),\n",
              "           (3, 7),\n",
              "           (4, 5),\n",
              "           (5, 6),\n",
              "           (6, 8),\n",
              "           (9, 10),\n",
              "           (11, 12),\n",
              "           (11, 13),\n",
              "           (11, 23),\n",
              "           (12, 14),\n",
              "           (12, 24),\n",
              "           (13, 15),\n",
              "           (14, 16),\n",
              "           (15, 17),\n",
              "           (15, 19),\n",
              "           (15, 21),\n",
              "           (16, 18),\n",
              "           (16, 20),\n",
              "           (16, 22),\n",
              "           (17, 19),\n",
              "           (18, 20),\n",
              "           (23, 24),\n",
              "           (23, 25),\n",
              "           (24, 26),\n",
              "           (25, 27),\n",
              "           (26, 28),\n",
              "           (27, 29),\n",
              "           (27, 31),\n",
              "           (28, 30),\n",
              "           (28, 32),\n",
              "           (29, 31),\n",
              "           (30, 32)})"
            ]
          },
          "metadata": {},
          "execution_count": 24
        }
      ]
    },
    {
      "cell_type": "code",
      "source": [],
      "metadata": {
        "id": "ViddI9KCRvrh"
      },
      "execution_count": null,
      "outputs": []
    }
  ]
}